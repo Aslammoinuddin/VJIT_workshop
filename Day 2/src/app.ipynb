{
 "cells": [
  {
   "cell_type": "code",
   "execution_count": 1,
   "metadata": {},
   "outputs": [],
   "source": [
    "from variables import CONFIG\n",
    "from storageutils import MySQLManager"
   ]
  },
  {
   "cell_type": "code",
   "execution_count": 9,
   "metadata": {},
   "outputs": [],
   "source": [
    "id = \"3\"\n",
    "person = \"Naresh\"\n",
    "classyear = 3\n",
    "\n",
    "query = \"insert into sample values('{}', '{}', {});\".format(\n",
    "    id, person, classyear)\n",
    "try:\n",
    "    MySQLManager.execute_query(query, None, **CONFIG['database']['vjit'])\n",
    "except Exception as error:\n",
    "    print(error)"
   ]
  },
  {
   "cell_type": "code",
   "execution_count": 11,
   "metadata": {},
   "outputs": [],
   "source": [
    "query = 'select * from sample where id = \"{}\"'.format(id)\n",
    "result = {}\n",
    "try:\n",
    "    result = MySQLManager.execute_query(query, None, **CONFIG['database']['vjit'])\n",
    "except Exception as error:\n",
    "    print(error)"
   ]
  },
  {
   "cell_type": "code",
   "execution_count": 12,
   "metadata": {},
   "outputs": [
    {
     "data": {
      "text/plain": [
       "[{'id': '3', 'person': 'Naresh', 'classyear': 3}]"
      ]
     },
     "execution_count": 12,
     "metadata": {},
     "output_type": "execute_result"
    }
   ],
   "source": [
    "result"
   ]
  }
 ],
 "metadata": {
  "kernelspec": {
   "display_name": ".venv_day2",
   "language": "python",
   "name": "python3"
  },
  "language_info": {
   "codemirror_mode": {
    "name": "ipython",
    "version": 3
   },
   "file_extension": ".py",
   "mimetype": "text/x-python",
   "name": "python",
   "nbconvert_exporter": "python",
   "pygments_lexer": "ipython3",
   "version": "3.10.12"
  }
 },
 "nbformat": 4,
 "nbformat_minor": 2
}
